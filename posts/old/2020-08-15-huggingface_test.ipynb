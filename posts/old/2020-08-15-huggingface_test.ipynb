{
 "cells": [
  {
   "cell_type": "raw",
   "metadata": {},
   "source": [
    "---\n",
    "aliases:\n",
    "- /jupyter/2020/08/15/huggingface_test\n",
    "badges: true\n",
    "categories:\n",
    "- jupyter\n",
    "- huggingface\n",
    "date: '2020-08-15'\n",
    "description: HuggingFace and Making Posts from Notebooks\n",
    "image: images/huggingface_logo.svg\n",
    "output-file: 2020-08-15-huggingface_test.html\n",
    "title: Trying Out HuggingFace\n",
    "toc: true\n",
    "\n",
    "---\n",
    "\n"
   ]
  },
  {
   "cell_type": "markdown",
   "metadata": {},
   "source": [
    "## Updated Blog Posting Method\n",
    "After going through the pain of converting a Notebook to a markdown file and then editing that markdown file to look nice (in my last post), I saw that there was a better way to hand that process: [fastpages](https://github.com/fastai/fastpages). The process was slightly rocky, but I finally think I have things more or less figured out, including linking it to a domain under my name!\n",
    "\n",
    "As a first test of the capability of uploading a notebook to a blog post, I am going to toy with the [Hugging Face models](https://huggingface.co/). Interesting name for a company/group, with lots of Alien vibes. I saw this super cool tweet:\n",
    "> twitter: https://twitter.com/huggingface/status/1293240692924452864?s=20"
   ]
  },
  {
   "cell_type": "markdown",
   "metadata": {},
   "source": [
    "Per the [instructions here](https://huggingface.co/transformers/installation.html) I made a virtual environment to try out some transformers:\n",
    "\n",
    "```bash\n",
    "pyenv virtualenv 3.8 hface\n",
    "pyenv activate hface\n",
    "pip install jupyter\n",
    "pip install --upgrade pip\n",
    "pip install torch\n",
    "pip install transformers\n",
    "```\n",
    "\n",
    "And then I tested with:\n",
    "```bash\n",
    "python -c \"from transformers import pipeline; print(pipeline('sentiment-analysis')('I hate you'))\"\n",
    "```\n",
    "\n",
    "Which gave a correct sentiment score, I think at least, a negative score close to 1."
   ]
  },
  {
   "cell_type": "code",
   "execution_count": 11,
   "metadata": {},
   "outputs": [],
   "source": [
    "from transformers import pipeline"
   ]
  },
  {
   "cell_type": "code",
   "execution_count": 2,
   "metadata": {},
   "outputs": [
    {
     "data": {
      "text/plain": [
       "[{'label': 'NEGATIVE', 'score': 0.905813992023468}]"
      ]
     },
     "execution_count": 2,
     "metadata": {},
     "output_type": "execute_result"
    }
   ],
   "source": [
    "pipeline('sentiment-analysis')('jog off')"
   ]
  },
  {
   "cell_type": "code",
   "execution_count": 3,
   "metadata": {},
   "outputs": [
    {
     "data": {
      "text/plain": [
       "[{'label': 'POSITIVE', 'score': 0.9990326166152954}]"
      ]
     },
     "execution_count": 3,
     "metadata": {},
     "output_type": "execute_result"
    }
   ],
   "source": [
    "pipeline('sentiment-analysis')('exactly')"
   ]
  },
  {
   "cell_type": "code",
   "execution_count": 4,
   "metadata": {},
   "outputs": [
    {
     "data": {
      "text/plain": [
       "[{'label': 'POSITIVE', 'score': 0.998775064945221}]"
      ]
     },
     "execution_count": 4,
     "metadata": {},
     "output_type": "execute_result"
    }
   ],
   "source": [
    "pipeline('sentiment-analysis')('I saw this super cool tweet')"
   ]
  },
  {
   "cell_type": "markdown",
   "metadata": {},
   "source": [
    "Very cool!"
   ]
  },
  {
   "cell_type": "markdown",
   "metadata": {},
   "source": [
    "## Trying Out Pipelines"
   ]
  },
  {
   "cell_type": "markdown",
   "metadata": {},
   "source": [
    "I attempted running a zero-shot classifier, but got an error (`\"Unknown task zero-shot-classification, available tasks are ['feature-extraction', 'sentiment-analysis', 'ner', 'question-answering', 'fill-mask', 'summarization', 'translation_en_to_fr', 'translation_en_to_de', 'translation_en_to_ro', 'text-generation']\"`). I guess this is because it is a new feature that hasn't quite made it to the latest version:\n",
    "\n",
    "```python\n",
    "classifer = pipeline('zero-shot-classification')\n",
    "```\n",
    "\n",
    "Instead, I will play around with some of the other classifers."
   ]
  },
  {
   "cell_type": "code",
   "execution_count": 13,
   "metadata": {},
   "outputs": [
    {
     "data": {
      "application/vnd.jupyter.widget-view+json": {
       "model_id": "c3487686dc2746be9b77e14254cfb900",
       "version_major": 2,
       "version_minor": 0
      },
      "text/plain": [
       "HBox(children=(FloatProgress(value=0.0, description='Downloading', max=1199.0, style=ProgressStyle(description…"
      ]
     },
     "metadata": {},
     "output_type": "display_data"
    },
    {
     "name": "stdout",
     "output_type": "stream",
     "text": [
      "\n"
     ]
    },
    {
     "data": {
      "application/vnd.jupyter.widget-view+json": {
       "model_id": "72d80bba5469474788c5e55bbbe8e47c",
       "version_major": 2,
       "version_minor": 0
      },
      "text/plain": [
       "HBox(children=(FloatProgress(value=0.0, description='Downloading', max=791656.0, style=ProgressStyle(descripti…"
      ]
     },
     "metadata": {},
     "output_type": "display_data"
    },
    {
     "name": "stdout",
     "output_type": "stream",
     "text": [
      "\n"
     ]
    },
    {
     "data": {
      "application/vnd.jupyter.widget-view+json": {
       "model_id": "48fd803b2cbf43568606308d040093a8",
       "version_major": 2,
       "version_minor": 0
      },
      "text/plain": [
       "HBox(children=(FloatProgress(value=0.0, description='Downloading', max=230.0, style=ProgressStyle(description_…"
      ]
     },
     "metadata": {},
     "output_type": "display_data"
    },
    {
     "name": "stdout",
     "output_type": "stream",
     "text": [
      "\n"
     ]
    },
    {
     "name": "stderr",
     "output_type": "stream",
     "text": [
      "/home/simon/.pyenv/versions/3.8.3/envs/hface/lib/python3.8/site-packages/transformers/modeling_auto.py:796: FutureWarning: The class `AutoModelWithLMHead` is deprecated and will be removed in a future version. Please use `AutoModelForCausalLM` for causal language models, `AutoModelForMaskedLM` for masked language models and `AutoModelForSeq2SeqLM` for encoder-decoder models.\n",
      "  warnings.warn(\n"
     ]
    },
    {
     "data": {
      "application/vnd.jupyter.widget-view+json": {
       "model_id": "48e73e15c9c849dfb14beb89481d34c9",
       "version_major": 2,
       "version_minor": 0
      },
      "text/plain": [
       "HBox(children=(FloatProgress(value=0.0, description='Downloading', max=891691430.0, style=ProgressStyle(descri…"
      ]
     },
     "metadata": {},
     "output_type": "display_data"
    },
    {
     "name": "stdout",
     "output_type": "stream",
     "text": [
      "\n"
     ]
    },
    {
     "name": "stderr",
     "output_type": "stream",
     "text": [
      "Some weights of T5ForConditionalGeneration were not initialized from the model checkpoint at t5-base and are newly initialized: ['encoder.embed_tokens.weight', 'decoder.embed_tokens.weight', 'lm_head.weight']\n",
      "You should probably TRAIN this model on a down-stream task to be able to use it for predictions and inference.\n"
     ]
    }
   ],
   "source": [
    "en_to_de_translate = pipeline('translation_en_to_de')"
   ]
  },
  {
   "cell_type": "code",
   "execution_count": 14,
   "metadata": {},
   "outputs": [
    {
     "data": {
      "text/plain": [
       "[{'translation_text': 'nein, nein, nein, nein!'}]"
      ]
     },
     "execution_count": 14,
     "metadata": {},
     "output_type": "execute_result"
    }
   ],
   "source": [
    "en_to_de_translate(\"no\")"
   ]
  },
  {
   "cell_type": "markdown",
   "metadata": {},
   "source": [
    "Checks out. Let's see if some other stuff accords with my degrading knowledge of German:"
   ]
  },
  {
   "cell_type": "code",
   "execution_count": 15,
   "metadata": {},
   "outputs": [
    {
     "data": {
      "text/plain": [
       "[{'translation_text': 'das ist mein Raum.'}]"
      ]
     },
     "execution_count": 15,
     "metadata": {},
     "output_type": "execute_result"
    }
   ],
   "source": [
    "en_to_de_translate(\"this is my room\")"
   ]
  },
  {
   "cell_type": "markdown",
   "metadata": {},
   "source": [
    "I probably would have used Zimmer instead of Raum, since Raum is more \"space\" than \"room\" to me."
   ]
  },
  {
   "cell_type": "code",
   "execution_count": 16,
   "metadata": {},
   "outputs": [
    {
     "data": {
      "text/plain": [
       "[{'translation_text': 'Affen, Hippo, Pfauen, Hunde, Katzen, Kaninchen, Hunde, Katzen, Kaninchen.'}]"
      ]
     },
     "execution_count": 16,
     "metadata": {},
     "output_type": "execute_result"
    }
   ],
   "source": [
    "en_to_de_translate(\"monkey, hippo, porcupine, dog, cat, rabbit\")"
   ]
  },
  {
   "cell_type": "markdown",
   "metadata": {},
   "source": [
    "It looks like it uses the plural for nouns. Hippo didn't translate to anything different, apparently Flusspferd (water horse) is favored by Leo. I like Stachelschwein (\"spike pig\") better for porcupine (which apparently [live in Texas now!?](http://www.landmarkwildlife.com/porcupines-in-texas-a-sticky-subject/)) and furthermore Pfauen looks to actual mean peacocks. I'm not sure why dog (Hund), cat (Katze), and rabbit (Kaninchen) are repeated, but those look good."
   ]
  },
  {
   "cell_type": "markdown",
   "metadata": {},
   "source": [
    "Thus it's not perfect, but something that took less than a minute can out-translate my 4-ish years of German classes that I haven't touched up on in like a decade. Ouch."
   ]
  },
  {
   "cell_type": "markdown",
   "metadata": {},
   "source": [
    "## Named Entity Recognition"
   ]
  },
  {
   "cell_type": "markdown",
   "metadata": {},
   "source": [
    "Finally, to cap off this short test post let's try out the named entity recognition task. They provide an example of the classifier [in their docs](https://huggingface.co/transformers/task_summary.html#named-entity-recognition) as well as a short list of what different abbreviations mean:\n",
    "* O, Outside of a named entity\n",
    "* B-MIS, Beginning of a miscellaneous entity right after another miscellaneous entity\n",
    "* I-MIS, Miscellaneous entity\n",
    "* B-PER, Beginning of a person’s name right after another person’s name\n",
    "* I-PER, Person’s name\n",
    "* B-ORG, Beginning of an organisation right after another organisation\n",
    "* I-ORG, Organisation\n",
    "* B-LOC, Beginning of a location right after another location\n",
    "* I-LOC, Location"
   ]
  },
  {
   "cell_type": "code",
   "execution_count": 17,
   "metadata": {},
   "outputs": [
    {
     "data": {
      "application/vnd.jupyter.widget-view+json": {
       "model_id": "e20f0705d1d54e9db2fd5d949419bbe3",
       "version_major": 2,
       "version_minor": 0
      },
      "text/plain": [
       "HBox(children=(FloatProgress(value=0.0, description='Downloading', max=998.0, style=ProgressStyle(description_…"
      ]
     },
     "metadata": {},
     "output_type": "display_data"
    },
    {
     "name": "stdout",
     "output_type": "stream",
     "text": [
      "\n"
     ]
    },
    {
     "data": {
      "application/vnd.jupyter.widget-view+json": {
       "model_id": "bbc86cde7bb74d8da044e59defa1c8aa",
       "version_major": 2,
       "version_minor": 0
      },
      "text/plain": [
       "HBox(children=(FloatProgress(value=0.0, description='Downloading', max=213450.0, style=ProgressStyle(descripti…"
      ]
     },
     "metadata": {},
     "output_type": "display_data"
    },
    {
     "name": "stdout",
     "output_type": "stream",
     "text": [
      "\n"
     ]
    },
    {
     "data": {
      "application/vnd.jupyter.widget-view+json": {
       "model_id": "723ee2159fb342e9a512c5ea8fae4041",
       "version_major": 2,
       "version_minor": 0
      },
      "text/plain": [
       "HBox(children=(FloatProgress(value=0.0, description='Downloading', max=60.0, style=ProgressStyle(description_w…"
      ]
     },
     "metadata": {},
     "output_type": "display_data"
    },
    {
     "name": "stdout",
     "output_type": "stream",
     "text": [
      "\n"
     ]
    },
    {
     "data": {
      "application/vnd.jupyter.widget-view+json": {
       "model_id": "8e75883b9ce14f54b4a41eae409c7d98",
       "version_major": 2,
       "version_minor": 0
      },
      "text/plain": [
       "HBox(children=(FloatProgress(value=0.0, description='Downloading', max=230.0, style=ProgressStyle(description_…"
      ]
     },
     "metadata": {},
     "output_type": "display_data"
    },
    {
     "name": "stdout",
     "output_type": "stream",
     "text": [
      "\n"
     ]
    },
    {
     "data": {
      "application/vnd.jupyter.widget-view+json": {
       "model_id": "6e011e56682f40ce91a98181b95f857f",
       "version_major": 2,
       "version_minor": 0
      },
      "text/plain": [
       "HBox(children=(FloatProgress(value=0.0, description='Downloading', max=1334448817.0, style=ProgressStyle(descr…"
      ]
     },
     "metadata": {},
     "output_type": "display_data"
    },
    {
     "name": "stdout",
     "output_type": "stream",
     "text": [
      "\n"
     ]
    }
   ],
   "source": [
    "ner = pipeline('ner')"
   ]
  },
  {
   "cell_type": "markdown",
   "metadata": {},
   "source": [
    "First using their example:"
   ]
  },
  {
   "cell_type": "code",
   "execution_count": 18,
   "metadata": {},
   "outputs": [],
   "source": [
    "sequence = (\"Hugging Face Inc. is a company based in New York City. Its headquarters are in DUMBO, therefore very\"\n",
    "    + \"close to the Manhattan Bridge which is visible from the window.\")"
   ]
  },
  {
   "cell_type": "code",
   "execution_count": 21,
   "metadata": {},
   "outputs": [],
   "source": [
    "from pprint import pprint"
   ]
  },
  {
   "cell_type": "code",
   "execution_count": 23,
   "metadata": {},
   "outputs": [
    {
     "name": "stdout",
     "output_type": "stream",
     "text": [
      "{'entity': 'I-ORG', 'index': 1, 'score': 0.9995632767677307, 'word': 'Hu'}\n",
      "{'entity': 'I-ORG', 'index': 2, 'score': 0.9915938973426819, 'word': '##gging'}\n",
      "{'entity': 'I-ORG', 'index': 3, 'score': 0.9982671737670898, 'word': 'Face'}\n",
      "{'entity': 'I-ORG', 'index': 4, 'score': 0.9994403719902039, 'word': 'Inc'}\n",
      "{'entity': 'I-LOC', 'index': 11, 'score': 0.9994346499443054, 'word': 'New'}\n",
      "{'entity': 'I-LOC', 'index': 12, 'score': 0.9993270635604858, 'word': 'York'}\n",
      "{'entity': 'I-LOC', 'index': 13, 'score': 0.9993864893913269, 'word': 'City'}\n",
      "{'entity': 'I-LOC', 'index': 19, 'score': 0.9825621843338013, 'word': 'D'}\n",
      "{'entity': 'I-LOC', 'index': 20, 'score': 0.9369831085205078, 'word': '##UM'}\n",
      "{'entity': 'I-LOC', 'index': 21, 'score': 0.8987104296684265, 'word': '##BO'}\n",
      "{'entity': 'I-LOC',\n",
      " 'index': 29,\n",
      " 'score': 0.9758240580558777,\n",
      " 'word': 'Manhattan'}\n",
      "{'entity': 'I-LOC', 'index': 30, 'score': 0.9902493953704834, 'word': 'Bridge'}\n"
     ]
    }
   ],
   "source": [
    "for entry in ner(sequence):\n",
    "    pprint(entry)"
   ]
  },
  {
   "cell_type": "markdown",
   "metadata": {},
   "source": [
    "Impressive, especially how it recognizes DUMBO as a location. (side note, I actually visited that area in my first trip to NYC last year)."
   ]
  },
  {
   "cell_type": "markdown",
   "metadata": {},
   "source": [
    "Looking forward to trying out these transformers more in the future!"
   ]
  }
 ],
 "metadata": {
  "kernelspec": {
   "display_name": "Python 3",
   "language": "python",
   "name": "python3"
  },
  "language_info": {
   "codemirror_mode": {
    "name": "ipython",
    "version": 3
   },
   "file_extension": ".py",
   "mimetype": "text/x-python",
   "name": "python",
   "nbconvert_exporter": "python",
   "pygments_lexer": "ipython3",
   "version": "3.8.3"
  }
 },
 "nbformat": 4,
 "nbformat_minor": 4
}
