{
 "cells": [
  {
   "cell_type": "markdown",
   "id": "332b4c96-7791-4559-9b0e-5d8f0d4e4ad8",
   "metadata": {},
   "source": [
    "---\n",
    "title: \"Graph My Code 1: Creating a Graph of Function Dependencies in Python\"\n",
    "date: 2023-09-16\n",
    "---"
   ]
  },
  {
   "cell_type": "markdown",
   "id": "0831b865-aa8a-4945-a5c5-daa0e97faf73",
   "metadata": {},
   "source": [
    "Using Python's `ast` to build graph visualizations of Python code."
   ]
  },
  {
   "cell_type": "markdown",
   "id": "ca093403-8867-4d72-bbdd-0417fbe9d29e",
   "metadata": {},
   "source": [
    "## Intro\n",
    "\n",
    "In the previous entry, we found connections between different Python scripts manually. We iterated through lines of code with a simple check for lines that began with something like `from x import` or `import x`. This works fine for getting an idea of module dependencies, but if we begin to ask questions like \"what functions are imported\" and \"what are our dependencies per function\" then the complexity begins to increase.\n",
    "\n",
    "For example, if we want to track which functions are called in a script (how often did I use a deprecated function that needs to be replaced in the next version?) we would have to:\n",
    "\n",
    "* take note of which functions are called in from the initial imports `from x import y, z`\n",
    "* go through the rest of the code line by line and find when `y` and `z` are used\n",
    "* find when functions of a library are called using notation like `x.func1()`\n",
    "\n",
    "If we also want to track the dependencies of each of our functions independently (rather than for the entire script) then this would involve systematically tracking when you are inside of a function definition.\n",
    "\n",
    "At some point in going through code, keeping a careful log of what has been defined, and differentiating between being in a function definition or in a comment, you're building a parser. This is fun, but it can be difficult to do correctly. Luckily, Python has a built-in parser you can use: `ast` for [Abstract Syntax Trees](https://docs.python.org/3/library/ast.html). This will build a syntax tree of Python code and allow us to crawl it to find the function dependencies we're looking for.\n",
    "\n",
    "Goals:\n",
    "\n",
    "* explore the `ast` library\n",
    "* use it to find function dependencies in code\n",
    "* visualize these dependencies with a graph"
   ]
  },
  {
   "cell_type": "markdown",
   "id": "f5aa6710-c457-4a22-899a-298892de132c",
   "metadata": {},
   "source": [
    "## Explore `ast`"
   ]
  },
  {
   "cell_type": "markdown",
   "id": "11b89101-cbc0-432a-8147-592bd06a37b0",
   "metadata": {},
   "source": [
    "First, here's what Python version I'm using (syntax can change from version to version, so this may not work exactly the same):"
   ]
  },
  {
   "cell_type": "code",
   "execution_count": 1,
   "id": "b6938268-1567-4215-a576-d1e3209c9935",
   "metadata": {},
   "outputs": [
    {
     "name": "stdout",
     "output_type": "stream",
     "text": [
      "Python 3.8.10\n"
     ]
    }
   ],
   "source": [
    "!python3 -V"
   ]
  },
  {
   "cell_type": "code",
   "execution_count": 2,
   "id": "f180a26e-3c29-41b6-8399-3486f4b2037d",
   "metadata": {},
   "outputs": [],
   "source": [
    "import ast"
   ]
  },
  {
   "cell_type": "markdown",
   "id": "ebd501b6-2710-46dc-bfc3-663c610151fc",
   "metadata": {},
   "source": [
    "Here is some example code:"
   ]
  },
  {
   "cell_type": "code",
   "execution_count": 3,
   "id": "c646d645-e314-408c-bfac-348a8a401e82",
   "metadata": {},
   "outputs": [
    {
     "name": "stdout",
     "output_type": "stream",
     "text": [
      "from worker import do_stuff\n",
      "\n",
      "do_stuff()\n"
     ]
    }
   ],
   "source": [
    "!cat example/main.py"
   ]
  },
  {
   "cell_type": "markdown",
   "id": "cf228ae0-113a-49ae-b745-c78dc59ffedc",
   "metadata": {},
   "source": [
    "### Parse"
   ]
  },
  {
   "cell_type": "markdown",
   "id": "f243725f-2328-4f0e-b482-a0866115dcbd",
   "metadata": {},
   "source": [
    "To use `ast`, begin by reading in the content of a file and then use `ast.parse`:"
   ]
  },
  {
   "cell_type": "code",
   "execution_count": 4,
   "id": "6e691a2c-771b-405a-ad4e-6a1b13482b2a",
   "metadata": {},
   "outputs": [],
   "source": [
    "example_script = open(\"example/main.py\", \"r\")\n",
    "parsed_script = ast.parse(example_script.read())"
   ]
  },
  {
   "cell_type": "markdown",
   "id": "a2f7433e-e17b-4c61-8984-9167cad03672",
   "metadata": {},
   "source": [
    "This produces a nested syntax tree. Here the entire module is the top level:"
   ]
  },
  {
   "cell_type": "code",
   "execution_count": 5,
   "id": "1cce9c04-28d0-42cb-b138-ece73c770a56",
   "metadata": {},
   "outputs": [
    {
     "data": {
      "text/plain": [
       "<_ast.Module at 0x7f8e08597610>"
      ]
     },
     "execution_count": 5,
     "metadata": {},
     "output_type": "execute_result"
    }
   ],
   "source": [
    "parsed_script"
   ]
  },
  {
   "cell_type": "markdown",
   "id": "5d4dc143-7e5e-4622-b7ec-e35cf1315388",
   "metadata": {},
   "source": [
    "Then its `.body` has the contents, and import line and some expression:"
   ]
  },
  {
   "cell_type": "code",
   "execution_count": 6,
   "id": "db41b9e7-0e41-4af3-890f-b9e426de1760",
   "metadata": {},
   "outputs": [
    {
     "data": {
      "text/plain": [
       "[<_ast.ImportFrom at 0x7f8e085973d0>, <_ast.Expr at 0x7f8e085975e0>]"
      ]
     },
     "execution_count": 6,
     "metadata": {},
     "output_type": "execute_result"
    }
   ],
   "source": [
    "parsed_script.body"
   ]
  },
  {
   "cell_type": "markdown",
   "id": "a409936c-39eb-4718-bb15-81923644ffa6",
   "metadata": {},
   "source": [
    "### Walk"
   ]
  },
  {
   "cell_type": "markdown",
   "id": "9c762c9a-2926-4e86-9851-cd1e1af53953",
   "metadata": {},
   "source": [
    "The nested elements keeps going until you hit the lowest levels of names of variables. You can see the full collection of elements with `.walk` to walk all paths of the syntax tree:"
   ]
  },
  {
   "cell_type": "code",
   "execution_count": 7,
   "id": "6f1a27a6-ad20-482e-ae80-d2879b092d83",
   "metadata": {},
   "outputs": [],
   "source": [
    "walked_script = ast.walk(parsed_script)\n",
    "w_l = list(walked_script)"
   ]
  },
  {
   "cell_type": "markdown",
   "id": "e8b04227-774e-4196-aa81-4f4cdbe0c01e",
   "metadata": {},
   "source": [
    "These are all the nodes:"
   ]
  },
  {
   "cell_type": "code",
   "execution_count": 8,
   "id": "e49d6bb3-6a5d-4a60-ab89-12951adc2793",
   "metadata": {},
   "outputs": [
    {
     "data": {
      "text/plain": [
       "[<_ast.Module at 0x7f8e08597610>,\n",
       " <_ast.ImportFrom at 0x7f8e085973d0>,\n",
       " <_ast.Expr at 0x7f8e085975e0>,\n",
       " <_ast.alias at 0x7f8e08597670>,\n",
       " <_ast.Call at 0x7f8e085976d0>,\n",
       " <_ast.Name at 0x7f8e08597700>,\n",
       " <_ast.Load at 0x7f8e0d19d0d0>]"
      ]
     },
     "execution_count": 8,
     "metadata": {},
     "output_type": "execute_result"
    }
   ],
   "source": [
    "w_l"
   ]
  },
  {
   "cell_type": "markdown",
   "id": "dc2472d5-4ff8-4dfc-ad22-d1c45a2bbd61",
   "metadata": {},
   "source": [
    "Some important ones for our purposes are `Module`, `ImportFrom`, and `Call`."
   ]
  },
  {
   "cell_type": "markdown",
   "id": "18c78b0a-1f4b-47b4-9801-884382ad396f",
   "metadata": {},
   "source": [
    "### Module Node"
   ]
  },
  {
   "cell_type": "markdown",
   "id": "a58596fc-fc8b-4e10-80fe-b97186a9206e",
   "metadata": {},
   "source": [
    "First is a node for a Python module that we saw at the top level of the object returned from `.parse`:"
   ]
  },
  {
   "cell_type": "code",
   "execution_count": 9,
   "id": "26dda2c2-75af-4115-9dc0-f2549cda5136",
   "metadata": {},
   "outputs": [],
   "source": [
    "module_node = w_l[0]"
   ]
  },
  {
   "cell_type": "code",
   "execution_count": 10,
   "id": "6c9c9b88-4597-4bc2-911c-faae7b3a6d34",
   "metadata": {},
   "outputs": [
    {
     "data": {
      "text/plain": [
       "[<_ast.ImportFrom at 0x7f8e085973d0>, <_ast.Expr at 0x7f8e085975e0>]"
      ]
     },
     "execution_count": 10,
     "metadata": {},
     "output_type": "execute_result"
    }
   ],
   "source": [
    "module_node.body"
   ]
  },
  {
   "cell_type": "markdown",
   "id": "941ce9e4-e48a-4066-83df-ce678a987604",
   "metadata": {},
   "source": [
    "### ImportFrom Node"
   ]
  },
  {
   "cell_type": "markdown",
   "id": "a887246d-dc49-42e2-8993-4a10642eceda",
   "metadata": {},
   "source": [
    "The `ImportFrom` node is specifically for imports structured like `from x import y`."
   ]
  },
  {
   "cell_type": "code",
   "execution_count": 11,
   "id": "242216d6-9d94-465f-8e37-bb54fd48cab3",
   "metadata": {},
   "outputs": [],
   "source": [
    "import_from_node = w_l[1]"
   ]
  },
  {
   "cell_type": "markdown",
   "id": "63e78223-f408-4b80-a75d-d69bd425447d",
   "metadata": {},
   "source": [
    "We can get the module name"
   ]
  },
  {
   "cell_type": "code",
   "execution_count": 12,
   "id": "03e15cbc-ab0d-4ded-8a1b-32c51bd206fe",
   "metadata": {},
   "outputs": [
    {
     "data": {
      "text/plain": [
       "'worker'"
      ]
     },
     "execution_count": 12,
     "metadata": {},
     "output_type": "execute_result"
    }
   ],
   "source": [
    "import_from_node.module"
   ]
  },
  {
   "cell_type": "markdown",
   "id": "2b774545-f131-4213-960b-0a1a3344e12b",
   "metadata": {},
   "source": [
    "and a list of the imported functions"
   ]
  },
  {
   "cell_type": "code",
   "execution_count": 13,
   "id": "bc445f92-bab8-4a07-be63-c2dbf1ebdd44",
   "metadata": {},
   "outputs": [
    {
     "data": {
      "text/plain": [
       "[<_ast.alias at 0x7f8e08597670>]"
      ]
     },
     "execution_count": 13,
     "metadata": {},
     "output_type": "execute_result"
    }
   ],
   "source": [
    "import_from_node.names"
   ]
  },
  {
   "cell_type": "markdown",
   "id": "1608ca1b-6069-40be-902d-3c0dd266c048",
   "metadata": {},
   "source": [
    "whose names we can access with the `.name` attribute"
   ]
  },
  {
   "cell_type": "code",
   "execution_count": 14,
   "id": "7ccff918-4940-44af-bc92-bdb9bd2f40e4",
   "metadata": {},
   "outputs": [
    {
     "data": {
      "text/plain": [
       "'do_stuff'"
      ]
     },
     "execution_count": 14,
     "metadata": {},
     "output_type": "execute_result"
    }
   ],
   "source": [
    "import_from_node.names[0].name"
   ]
  },
  {
   "cell_type": "markdown",
   "id": "602e40ea-4a7d-4f71-8c84-c41fc60bbea5",
   "metadata": {},
   "source": [
    "This tells us that we imported `do_stuff` from `worker`, even if it doesn't specifically tell us the context of it (where did we use the function if at all). "
   ]
  },
  {
   "cell_type": "markdown",
   "id": "07f9d26b-6a3d-4a2e-823a-138b2a44c159",
   "metadata": {},
   "source": [
    "### Call Nodes"
   ]
  },
  {
   "cell_type": "markdown",
   "id": "bc51a321-fd64-4d29-93c7-e5b2c1ca51ca",
   "metadata": {},
   "source": [
    "Function calls are in `Call` nodes:"
   ]
  },
  {
   "cell_type": "code",
   "execution_count": 15,
   "id": "19a86a6a-ff72-494f-b912-3b238f066761",
   "metadata": {},
   "outputs": [
    {
     "data": {
      "text/plain": [
       "<_ast.Call at 0x7f8e085976d0>"
      ]
     },
     "execution_count": 15,
     "metadata": {},
     "output_type": "execute_result"
    }
   ],
   "source": [
    "call_node = w_l[-3]\n",
    "call_node"
   ]
  },
  {
   "cell_type": "markdown",
   "id": "ff989684-6076-43cb-89a9-44ddcf434e44",
   "metadata": {},
   "source": [
    "We can get the arguments of the function, the line number where the call was made, and the name of the function being called:"
   ]
  },
  {
   "cell_type": "code",
   "execution_count": 16,
   "id": "d36f9178-7f89-4f5d-b487-a9310a30cb50",
   "metadata": {},
   "outputs": [
    {
     "data": {
      "text/plain": [
       "[]"
      ]
     },
     "execution_count": 16,
     "metadata": {},
     "output_type": "execute_result"
    }
   ],
   "source": [
    "call_node.args"
   ]
  },
  {
   "cell_type": "code",
   "execution_count": 17,
   "id": "d8b09014-ec0b-4bc9-9ce8-32c653fa4b6f",
   "metadata": {},
   "outputs": [
    {
     "data": {
      "text/plain": [
       "3"
      ]
     },
     "execution_count": 17,
     "metadata": {},
     "output_type": "execute_result"
    }
   ],
   "source": [
    "call_node.lineno"
   ]
  },
  {
   "cell_type": "code",
   "execution_count": 18,
   "id": "bdb3e692-58ae-4a42-aad8-c86e5e445da1",
   "metadata": {},
   "outputs": [
    {
     "data": {
      "text/plain": [
       "'do_stuff'"
      ]
     },
     "execution_count": 18,
     "metadata": {},
     "output_type": "execute_result"
    }
   ],
   "source": [
    "call_node.func.id"
   ]
  },
  {
   "cell_type": "markdown",
   "id": "6744d3f4-d047-43a3-99cd-c8a59695969e",
   "metadata": {},
   "source": [
    "## Start Crawling Code"
   ]
  },
  {
   "cell_type": "markdown",
   "id": "a7ace84d-62b4-4e8b-9fa7-c19dc04259ff",
   "metadata": {},
   "source": [
    "Use a function to generate a walked list of AST elements given a script name:"
   ]
  },
  {
   "cell_type": "code",
   "execution_count": 19,
   "id": "e5ed1b46-7f50-4f55-b033-a9756bc55a9b",
   "metadata": {},
   "outputs": [],
   "source": [
    "def walk_script(filename):\n",
    "    worker_script = open(filename, \"r\")\n",
    "    parsed_worker = ast.parse(worker_script.read())\n",
    "    walked_worker = ast.walk(parsed_worker)\n",
    "    work_w = list(walked_worker)\n",
    "    return work_w"
   ]
  },
  {
   "cell_type": "code",
   "execution_count": 20,
   "id": "e5bed594-94b3-4796-add5-f33500e20244",
   "metadata": {},
   "outputs": [],
   "source": [
    "work_w = walk_script(\"example/worker.py\")"
   ]
  },
  {
   "cell_type": "code",
   "execution_count": 21,
   "id": "ed96ae61-aad6-4952-85ca-6bec2373e6f4",
   "metadata": {},
   "outputs": [
    {
     "name": "stdout",
     "output_type": "stream",
     "text": [
      "from helper_1 import greeting\n",
      "from helper_2 import name\n",
      "\n",
      "def do_stuff():\n",
      "    print(f\"{greeting()}, {name()}!\")\n"
     ]
    }
   ],
   "source": [
    "!cat example/worker.py"
   ]
  },
  {
   "cell_type": "code",
   "execution_count": 22,
   "id": "473eb997-4430-4993-873b-c2b7d9a96dd1",
   "metadata": {},
   "outputs": [
    {
     "data": {
      "text/plain": [
       "[<_ast.Module at 0x7f8e08534460>,\n",
       " <_ast.ImportFrom at 0x7f8e085340a0>,\n",
       " <_ast.ImportFrom at 0x7f8e08534190>,\n",
       " <_ast.FunctionDef at 0x7f8e08534340>,\n",
       " <_ast.alias at 0x7f8e08534250>,\n",
       " <_ast.alias at 0x7f8e08534280>,\n",
       " <_ast.arguments at 0x7f8e08534160>,\n",
       " <_ast.Expr at 0x7f8e08534310>,\n",
       " <_ast.Call at 0x7f8e085342b0>,\n",
       " <_ast.Name at 0x7f8e085343d0>,\n",
       " <_ast.JoinedStr at 0x7f8e08534370>,\n",
       " <_ast.Load at 0x7f8e0d19d0d0>,\n",
       " <_ast.FormattedValue at 0x7f8e085343a0>,\n",
       " <_ast.Constant at 0x7f8e085345b0>,\n",
       " <_ast.FormattedValue at 0x7f8e08534400>,\n",
       " <_ast.Constant at 0x7f8e08534520>,\n",
       " <_ast.Call at 0x7f8e085341f0>,\n",
       " <_ast.Call at 0x7f8e08534490>,\n",
       " <_ast.Name at 0x7f8e08534430>,\n",
       " <_ast.Name at 0x7f8e085344c0>,\n",
       " <_ast.Load at 0x7f8e0d19d0d0>,\n",
       " <_ast.Load at 0x7f8e0d19d0d0>]"
      ]
     },
     "execution_count": 22,
     "metadata": {},
     "output_type": "execute_result"
    }
   ],
   "source": [
    "work_w"
   ]
  },
  {
   "cell_type": "markdown",
   "id": "f7d42e16-3302-46f9-91d4-ebf127ed0c42",
   "metadata": {},
   "source": [
    "If we start at the top, the module node tells us this code consists of two import lines and a function definition:"
   ]
  },
  {
   "cell_type": "code",
   "execution_count": 23,
   "id": "210d40e2-a0d2-4714-99ae-c1a26fbbe319",
   "metadata": {},
   "outputs": [
    {
     "data": {
      "text/plain": [
       "<_ast.Module at 0x7f8e08534460>"
      ]
     },
     "execution_count": 23,
     "metadata": {},
     "output_type": "execute_result"
    }
   ],
   "source": [
    "work_w[0]"
   ]
  },
  {
   "cell_type": "code",
   "execution_count": 24,
   "id": "f7cd2e73-7b17-4f0d-a539-d6e94782f5db",
   "metadata": {},
   "outputs": [
    {
     "data": {
      "text/plain": [
       "[<_ast.ImportFrom at 0x7f8e085340a0>,\n",
       " <_ast.ImportFrom at 0x7f8e08534190>,\n",
       " <_ast.FunctionDef at 0x7f8e08534340>]"
      ]
     },
     "execution_count": 24,
     "metadata": {},
     "output_type": "execute_result"
    }
   ],
   "source": [
    "work_w[0].body"
   ]
  },
  {
   "cell_type": "markdown",
   "id": "5f66d8b2-e02f-4667-8505-f9788717c68b",
   "metadata": {},
   "source": [
    "The names of the imported modules:"
   ]
  },
  {
   "cell_type": "code",
   "execution_count": 25,
   "id": "6308b76b-56a9-4562-987b-cfe6e8b56112",
   "metadata": {},
   "outputs": [
    {
     "data": {
      "text/plain": [
       "'helper_1'"
      ]
     },
     "execution_count": 25,
     "metadata": {},
     "output_type": "execute_result"
    }
   ],
   "source": [
    "work_w[0].body[0].module"
   ]
  },
  {
   "cell_type": "code",
   "execution_count": 26,
   "id": "9f24b80d-8c6c-4990-8436-d74b7fe06126",
   "metadata": {},
   "outputs": [
    {
     "data": {
      "text/plain": [
       "'helper_2'"
      ]
     },
     "execution_count": 26,
     "metadata": {},
     "output_type": "execute_result"
    }
   ],
   "source": [
    "work_w[0].body[1].module"
   ]
  },
  {
   "cell_type": "markdown",
   "id": "bf9f9d43-2cf2-4a0f-9b4d-d0f230830a23",
   "metadata": {},
   "source": [
    "We can begin to see how to parse for module and function dependency information. We can used the walked syntax tree and record information about module imports, function calls, and function definitions. Note, if we are crawling the children of `FunctionDef` then the function being defined has those children as dependencies."
   ]
  },
  {
   "cell_type": "markdown",
   "id": "ae3c5104-e789-4e65-bfe0-d561d9a29b97",
   "metadata": {},
   "source": [
    "Part of the power of `ast` is that our dependency parser is more robust to code that is less well-formatted."
   ]
  },
  {
   "cell_type": "code",
   "execution_count": 27,
   "id": "57cd3dd9-7709-4d79-a7b1-24fcd92963d4",
   "metadata": {},
   "outputs": [
    {
     "name": "stdout",
     "output_type": "stream",
     "text": [
      "from helper_1 import greeting\n",
      "\n",
      "def do_stuff():\n",
      "    print(f\"{greeting()}, {name()}!\")\n",
      "\n",
      "from helper_2 import name\n"
     ]
    }
   ],
   "source": [
    "!cat example/worker_difficult.py"
   ]
  },
  {
   "cell_type": "code",
   "execution_count": 28,
   "id": "8af792cb-be32-4afd-b308-39c87b770c80",
   "metadata": {},
   "outputs": [],
   "source": [
    "work_w = walk_script(\"example/worker_difficult.py\")"
   ]
  },
  {
   "cell_type": "markdown",
   "id": "1710f624-4920-4ecd-99b3-5ff39bbe638c",
   "metadata": {},
   "source": [
    "The only thing that changes is the order in the body of the module node, the second import is now after the function definition (but not a child of it) and this information is preserved:"
   ]
  },
  {
   "cell_type": "code",
   "execution_count": 29,
   "id": "af4a0675-4f50-4924-b9c2-26cbb4930672",
   "metadata": {},
   "outputs": [
    {
     "data": {
      "text/plain": [
       "[<_ast.ImportFrom at 0x7f8e08545820>,\n",
       " <_ast.FunctionDef at 0x7f8e08545b20>,\n",
       " <_ast.ImportFrom at 0x7f8e08545d30>]"
      ]
     },
     "execution_count": 29,
     "metadata": {},
     "output_type": "execute_result"
    }
   ],
   "source": [
    "work_w[0].body"
   ]
  },
  {
   "attachments": {},
   "cell_type": "markdown",
   "id": "c1af6085-a0bd-4bd0-bc8f-a217ebe43785",
   "metadata": {},
   "source": [
    "## Constructing the Dependency Parser\n",
    "\n",
    "At the end of this article, there are details of more complex parsing cases, but let's jump into using the parser:\n",
    "\n",
    "1. create the syntax tree,\n",
    "2. walk the nodes,\n",
    "3. perform a type check on each node and\n",
    "4. extract the information from the node depending on the type"
   ]
  },
  {
   "cell_type": "code",
   "execution_count": 30,
   "id": "7d8cfea3-6f45-41f8-8665-f7a1a5dd7ba9",
   "metadata": {},
   "outputs": [
    {
     "name": "stdout",
     "output_type": "stream",
     "text": [
      "import numpy as np\n",
      "\n",
      "z = np.zeroes(5)\n",
      "\n",
      "def mul():\n",
      "    a = np.array([[1, 0],\n",
      "                  [0, 1]])\n",
      "    b = np.array([[4, 1],\n",
      "                  [2, 2]])\n",
      "    return np.matmul(a, b)\n",
      "\n",
      "def eigs_of_product():\n",
      "    a = np.array([[1, 0],\n",
      "                  [0, 1]])\n",
      "    b = np.array([[4, 1],\n",
      "                  [2, 2]])\n",
      "    product = np.matmul(a, b)\n",
      "    eigs = np.linalg.eigs(product)\n",
      "    np.linalg.debug.depth.error_print(eigs)  # this is a fake call, comment out if you want to run this\n",
      "    return eigs"
     ]
    }
   ],
   "source": [
    "!cat example/abyss.py"
   ]
  },
  {
   "cell_type": "code",
   "execution_count": 31,
   "id": "ef6f3eb9-b1f6-4b04-bf6d-f91fb53a9b2b",
   "metadata": {},
   "outputs": [
    {
     "name": "stdout",
     "output_type": "stream",
     "text": [
      "zeroes np\n",
      "array np\n",
      "array np\n",
      "matmul np\n",
      "array np\n",
      "array np\n",
      "matmul np\n",
      "eigs np.linalg\n",
      "error_print np.linalg.debug.depth\n"
     ]
    }
   ],
   "source": [
    "def get_submodule_desc(value):\n",
    "    # this helps us handle submodules like the call of `np.linalg.eig` which is using the `linalg` submodule of `numpy`\n",
    "    module_call = []\n",
    "    # the submodules and functions will have different types\n",
    "    if isinstance(value, ast.Attribute):\n",
    "        module_call.append(value.attr)\n",
    "        module_call.extend(get_submodule_desc(value.value))  # since this was a submodule, keep parsing\n",
    "    elif isinstance(value, ast.Name):\n",
    "        module_call.append(value.id)  # finally hit the function\n",
    "    return module_call\n",
    "\n",
    "work_w = walk_script(\"example/abyss.py\")  # 1. create the syntax tree and 2. walk the nodes\n",
    "calls = [n for n in work_w if isinstance(n, ast.Call)]  # 3. perform a type check (to only get function calls)\n",
    "for call in calls:\n",
    "    # 4. extract information from each call node\n",
    "    function = call.func\n",
    "    function_name = function.attr\n",
    "    value = function.value\n",
    "    submodule_desc = get_submodule_desc(value)\n",
    "    submodule_desc.reverse()  # we ended up parsing backwards\n",
    "    print(function_name, \".\".join(submodule_desc))  # returning the function name and parent module"
   ]
  },
  {
   "cell_type": "markdown",
   "id": "8dee702e-e1f5-4641-93c0-3b4386f174cf",
   "metadata": {},
   "source": [
    "So we have a list of functions called in the script along with their home modules."
   ]
  },
  {
   "cell_type": "markdown",
   "id": "5cbe729d-f13a-4d26-86a1-2497c1932d16",
   "metadata": {},
   "source": [
    "## Extract Code Info"
   ]
  },
  {
   "cell_type": "markdown",
   "id": "ef92f103-5ad4-4361-a43e-d47cf97c365f",
   "metadata": {},
   "source": [
    "Do something like the above for each `.py` file in a directory you want to map out."
   ]
  },
  {
   "cell_type": "code",
   "execution_count": 32,
   "id": "64fabe25-0b4e-427e-a97d-7e564f25a4ce",
   "metadata": {},
   "outputs": [],
   "source": [
    "from code_extraction import *"
   ]
  },
  {
   "cell_type": "markdown",
   "id": "462828eb-75ec-4b38-a537-b1fa060e8be8",
   "metadata": {},
   "source": [
    "We have a simple utility to get all of the Python filenames from a collection of directories, along with separately specified filenames."
   ]
  },
  {
   "cell_type": "code",
   "execution_count": 33,
   "id": "2ebedc7f-0454-4de0-a6eb-4c722350176b",
   "metadata": {},
   "outputs": [
    {
     "data": {
      "text/plain": [
       "[PosixPath('example/main.py'),\n",
       " PosixPath('example/helper_2.py'),\n",
       " PosixPath('example/worker_difficult.py'),\n",
       " PosixPath('example/worker.py'),\n",
       " PosixPath('example/worker_more_difficult.py'),\n",
       " PosixPath('example/helper_1.py'),\n",
       " PosixPath('example/abyss.py'),\n",
       " PosixPath('example/sub/one.py'),\n",
       " PosixPath('example/sub/subsub/two.py'),\n",
       " PosixPath('example2/lo.py'),\n",
       " PosixPath('test.py')]"
      ]
     },
     "execution_count": 33,
     "metadata": {},
     "output_type": "execute_result"
    }
   ],
   "source": [
    "get_all_filenames(directories=[\"example\", \"example2\"], other_python_filenames=[\"test.py\"])"
   ]
  },
  {
   "cell_type": "markdown",
   "id": "8e44cded-1f8c-47a6-b6b9-9b3f6b1644fb",
   "metadata": {},
   "source": [
    "We'll do a deeper dive in the next article, but we can create a module information dictionary by parsing and extracting information from each script."
   ]
  },
  {
   "cell_type": "code",
   "execution_count": 34,
   "id": "7fc18bcb-9275-44f4-8bd3-ff49da6b2bed",
   "metadata": {},
   "outputs": [],
   "source": [
    "m_info = extract_code_information(directories=[\"example\", \"example2\"], other_python_filenames=[\"test.py\"])"
   ]
  },
  {
   "cell_type": "code",
   "execution_count": 35,
   "id": "4308c48c-5c2b-4441-9caa-21b465805916",
   "metadata": {},
   "outputs": [],
   "source": [
    "from pprint import pprint"
   ]
  },
  {
   "cell_type": "markdown",
   "id": "214f32fe-bf14-4281-a589-1d7db57323fe",
   "metadata": {},
   "source": [
    "The module names:"
   ]
  },
  {
   "cell_type": "code",
   "execution_count": 36,
   "id": "37581b7a-ae94-4ef0-ac09-32f729e1a40b",
   "metadata": {},
   "outputs": [
    {
     "data": {
      "text/plain": [
       "dict_keys(['main', 'helper_2', 'worker_difficult', 'worker', 'worker_more_difficult', 'helper_1', 'abyss', 'one', 'two', 'lo', 'test'])"
      ]
     },
     "execution_count": 36,
     "metadata": {},
     "output_type": "execute_result"
    }
   ],
   "source": [
    "m_info.keys()"
   ]
  },
  {
   "cell_type": "markdown",
   "id": "eac20aeb-0805-4b04-af10-8e7877b3d4c4",
   "metadata": {},
   "source": [
    "For each module, we provide the list of imports, function calls, and function definitions:"
   ]
  },
  {
   "cell_type": "code",
   "execution_count": 37,
   "id": "857ad690-a2a1-4ce1-abd2-dc7c2de711a0",
   "metadata": {},
   "outputs": [
    {
     "data": {
      "text/plain": [
       "dict_keys(['import_list', 'call_list', 'func_defs'])"
      ]
     },
     "execution_count": 37,
     "metadata": {},
     "output_type": "execute_result"
    }
   ],
   "source": [
    "m_info[\"worker\"].keys()"
   ]
  },
  {
   "cell_type": "markdown",
   "id": "85230ab3-a431-4ca9-acfb-e9cea6321d03",
   "metadata": {},
   "source": [
    "Then our extracted information looks something like this:"
   ]
  },
  {
   "cell_type": "code",
   "execution_count": 38,
   "id": "a2b0cde6-12ea-4fb8-91fe-fba58f48ac15",
   "metadata": {},
   "outputs": [
    {
     "name": "stdout",
     "output_type": "stream",
     "text": [
      "{'call_list': [CallNode(module=[], name='print', call_lineno=5, called_by='do_stuff'),\n",
      "               CallNode(module=[], name='greeting', call_lineno=5, called_by='do_stuff'),\n",
      "               CallNode(module=[], name='name', call_lineno=5, called_by='do_stuff')],\n",
      " 'func_defs': [FuncDefNode(name='do_stuff', module='worker', start_lineno=4, end_lineno=5, calls=[CallNode(module=[], name='print', call_lineno=5, called_by='do_stuff'), CallNode(module=[], name='greeting', call_lineno=5, called_by='do_stuff'), CallNode(module=[], name='name', call_lineno=5, called_by='do_stuff')])],\n",
      " 'import_list': [ImportNode(module='helper_1', function_names=['greeting'], level=0, alias=''),\n",
      "                 ImportNode(module='helper_2', function_names=['name'], level=0, alias='')]}\n"
     ]
    }
   ],
   "source": [
    "pprint(m_info[\"worker\"])"
   ]
  },
  {
   "cell_type": "markdown",
   "id": "f3347ea5-127a-4a0f-93a6-0aeb4d2fae9c",
   "metadata": {},
   "source": [
    "We have the function calls that are made, tracked by where they are called. We also have a log of the imported modules as well as the functions defined in a module."
   ]
  },
  {
   "cell_type": "markdown",
   "id": "58a5916e-d133-44c4-8846-809c1b35a395",
   "metadata": {},
   "source": [
    "## Construct Code Graph"
   ]
  },
  {
   "cell_type": "markdown",
   "id": "3aa6513d-a3b3-4397-a20e-156fd639e65c",
   "metadata": {},
   "source": [
    "The module info dictionary `m_info` contains all the information we need to build up a code graph."
   ]
  },
  {
   "cell_type": "code",
   "execution_count": 39,
   "id": "b8b36dc0-cc84-4d84-b48b-565598d9359b",
   "metadata": {},
   "outputs": [],
   "source": [
    "from code_graph import *"
   ]
  },
  {
   "cell_type": "markdown",
   "id": "35e4dc4a-e911-4fbf-bab9-3d3688b06a19",
   "metadata": {},
   "source": [
    "For each function we can use the call list to create from functions to their parent modules:"
   ]
  },
  {
   "cell_type": "code",
   "execution_count": 40,
   "id": "4f65ab1b-44ac-4ccd-bf24-8a36b68b59c0",
   "metadata": {},
   "outputs": [
    {
     "data": {
      "text/plain": [
       "[CallNode(module=['np'], name='zeroes', call_lineno=3, called_by=None),\n",
       " CallNode(module=['np'], name='array', call_lineno=6, called_by='mul'),\n",
       " CallNode(module=['np'], name='array', call_lineno=8, called_by='mul'),\n",
       " CallNode(module=['np'], name='matmul', call_lineno=10, called_by='mul'),\n",
       " CallNode(module=['np'], name='array', call_lineno=13, called_by='eigs_of_product'),\n",
       " CallNode(module=['np'], name='array', call_lineno=15, called_by='eigs_of_product'),\n",
       " CallNode(module=['np'], name='matmul', call_lineno=17, called_by='eigs_of_product'),\n",
       " CallNode(module=['np', 'linalg'], name='eigs', call_lineno=18, called_by='eigs_of_product'),\n",
       " CallNode(module=['np', 'linalg', 'debug', 'depth'], name='error_print', call_lineno=19, called_by='eigs_of_product')]"
      ]
     },
     "execution_count": 40,
     "metadata": {},
     "output_type": "execute_result"
    }
   ],
   "source": [
    "m_info[\"abyss\"][\"call_list\"]"
   ]
  },
  {
   "cell_type": "code",
   "execution_count": 41,
   "id": "947e6fb9-e273-4b38-87d5-ccfc56bd3e5b",
   "metadata": {},
   "outputs": [
    {
     "data": {
      "text/plain": [
       "[('mul', 'np.array'),\n",
       " ('mul', 'np.array'),\n",
       " ('mul', 'np.matmul'),\n",
       " ('eigs_of_product', 'np.array'),\n",
       " ('eigs_of_product', 'np.array'),\n",
       " ('eigs_of_product', 'np.matmul'),\n",
       " ('eigs_of_product', 'np.linalg.eigs'),\n",
       " ('eigs_of_product', 'np.linalg.debug.depth.error_print')]"
      ]
     },
     "execution_count": 41,
     "metadata": {},
     "output_type": "execute_result"
    }
   ],
   "source": [
    "create_function_call_edges_simple(m_info[\"abyss\"])"
   ]
  },
  {
   "cell_type": "markdown",
   "id": "13c04217-2ec8-4aff-9914-928c37536317",
   "metadata": {},
   "source": [
    "We can see that some functions are called multiple times in the same definition, so we compress this information while keeping track of the number of calls:"
   ]
  },
  {
   "cell_type": "code",
   "execution_count": 42,
   "id": "c13f8f7a-7271-41ce-b617-e1e7a04933a7",
   "metadata": {},
   "outputs": [
    {
     "data": {
      "text/plain": [
       "[('mul', 'np.array', 2),\n",
       " ('mul', 'np.matmul', 1),\n",
       " ('eigs_of_product', 'np.array', 2),\n",
       " ('eigs_of_product', 'np.matmul', 1),\n",
       " ('eigs_of_product', 'np.linalg.eigs', 1),\n",
       " ('eigs_of_product', 'np.linalg.debug.depth.error_print', 1)]"
      ]
     },
     "execution_count": 42,
     "metadata": {},
     "output_type": "execute_result"
    }
   ],
   "source": [
    "create_function_call_edges(m_info[\"abyss\"])"
   ]
  },
  {
   "cell_type": "markdown",
   "id": "9ccbb0bb-0767-4259-89e9-87cbbd39a251",
   "metadata": {},
   "source": [
    "## Visualize"
   ]
  },
  {
   "cell_type": "markdown",
   "id": "51f5498a-fcea-478d-890b-8581d3bf6015",
   "metadata": {},
   "source": [
    "Finally, we create mermaid graph descriptions of code."
   ]
  },
  {
   "cell_type": "code",
   "execution_count": 43,
   "id": "dbf9e6d9-c80a-43de-9dbe-42c854eb5f78",
   "metadata": {},
   "outputs": [],
   "source": [
    "from viz_code import generate_desc"
   ]
  },
  {
   "cell_type": "code",
   "execution_count": 44,
   "id": "6576db4c-a12d-4166-ab11-a69ced331e3e",
   "metadata": {},
   "outputs": [
    {
     "name": "stdout",
     "output_type": "stream",
     "text": [
      "```{mermaid}\n",
      "graph LR;\n",
      "\tdo_stuff[do_stuff] --> print[print];\n",
      "\tdo_stuff[do_stuff] --> greeting[greeting];\n",
      "\tdo_stuff[do_stuff] --> name[name];\n",
      "```\n"
     ]
    }
   ],
   "source": [
    "print(generate_desc(create_function_call_edges_simple(m_info[\"worker\"])))"
   ]
  },
  {
   "cell_type": "markdown",
   "id": "235b488a-3a7a-4996-83f1-834ece4d73f5",
   "metadata": {},
   "source": [
    "```{mermaid}\r\n",
    "graph LR;\r\n",
    "\tdo_stuff[do_stuff] --> print[print];\r\n",
    "\tdo_stuff[do_stuff] --> greeting[greeting];\r\n",
    "\tdo_stuff[do_stuff] --> name[name];\r\n",
    "```\r\n"
   ]
  },
  {
   "cell_type": "code",
   "execution_count": 45,
   "id": "aa0ddafd-e766-4d28-a0c1-292792332cb0",
   "metadata": {},
   "outputs": [
    {
     "name": "stdout",
     "output_type": "stream",
     "text": [
      "```{mermaid}\n",
      "graph LR;\n",
      "\tmul[mul] --> np.array[np.array];\n",
      "\tmul[mul] --> np.array[np.array];\n",
      "\tmul[mul] --> np.matmul[np.matmul];\n",
      "\teigs_of_product[eigs_of_product] --> np.array[np.array];\n",
      "\teigs_of_product[eigs_of_product] --> np.array[np.array];\n",
      "\teigs_of_product[eigs_of_product] --> np.matmul[np.matmul];\n",
      "\teigs_of_product[eigs_of_product] --> np.linalg.eigs[np.linalg.eigs];\n",
      "\teigs_of_product[eigs_of_product] --> np.linalg.debug.dept[np.linalg.debug.depth.error_print];\n",
      "```\n"
     ]
    }
   ],
   "source": [
    "print(generate_desc(create_function_call_edges_simple(m_info[\"abyss\"])))"
   ]
  },
  {
   "cell_type": "markdown",
   "id": "2acd23c0-72f4-45fe-b801-fa7de2befd28",
   "metadata": {},
   "source": [
    "```{mermaid}\r\n",
    "graph LR;\r\n",
    "\tmul[mul] --> np.array[np.array];\r\n",
    "\tmul[mul] --> np.array[np.array];\r\n",
    "\tmul[mul] --> np.matmul[np.matmul];\r\n",
    "\teigs_of_product[eigs_of_product] --> np.array[np.array];\r\n",
    "\teigs_of_product[eigs_of_product] --> np.array[np.array];\r\n",
    "\teigs_of_product[eigs_of_product] --> np.matmul[np.matmul];\r\n",
    "\teigs_of_product[eigs_of_product] --> np.linalg.eigs[np.linalg.eigs];\r\n",
    "\teigs_of_product[eigs_of_product] --> np.linalg.debug.dept[np.linalg.debug.depth.error_pri;\r\n",
    "```\n",
    "```\r\n"
   ]
  },
  {
   "cell_type": "markdown",
   "id": "d4eefd5c-be13-4546-baf2-558886f965c1",
   "metadata": {},
   "source": [
    "**In the next installment** we'll go into the details about how to actually create this parser with a final repo for creating a function dependency graph."
   ]
  },
  {
   "cell_type": "markdown",
   "id": "ba0e489c-82b5-4457-a9cc-6f09d37da59b",
   "metadata": {},
   "source": [
    "## Addendum: More Complex Parsing"
   ]
  },
  {
   "cell_type": "markdown",
   "id": "ff74efd8-9418-41cf-911f-a614da1416b1",
   "metadata": {},
   "source": [
    "There are many complex cases that need to be handled to perform a thorough analysis. For instance, when the imports are not all tidily placed at the top and also:\n",
    "\n",
    "* importing multiple functions: `from x import (a, b, c)`\n",
    "* inline imports: sometimes you only want to perform an import when you are using a specific function\n",
    "* aliasing: `import numpy as np` means we have to track `np` in the code"
   ]
  },
  {
   "cell_type": "code",
   "execution_count": 46,
   "id": "fbf22e44-dcc9-4a47-bb9d-0759e12c0f29",
   "metadata": {},
   "outputs": [],
   "source": [
    "work_w = walk_script(\"example/worker_more_difficult.py\")"
   ]
  },
  {
   "cell_type": "markdown",
   "id": "9653b13e-cea3-4ece-842d-a297d8f97cc8",
   "metadata": {},
   "source": [
    "Here we have examples of all the above:"
   ]
  },
  {
   "cell_type": "code",
   "execution_count": 47,
   "id": "bd9f84e9-c661-4aa6-b966-a0eda25ec66a",
   "metadata": {},
   "outputs": [
    {
     "name": "stdout",
     "output_type": "stream",
     "text": [
      "from helper_1 import greeting\n",
      "from helper_3 import (a, b, c, d)\n",
      "from collections import *\n",
      "\n",
      "def do_stuff():\n",
      "    import re\n",
      "    import talk as tk\n",
      "    print(f\"{greeting()}, {name()}!\")\n",
      "\n",
      "from helper_2 import name, crab\n",
      "from ..test import say_hello\n",
      "import sub.one\n",
      "import sub.subsub.two\n",
      "from sub.one import cat\n",
      "from sub.subsub.two import dog\n"
     ]
    }
   ],
   "source": [
    "!cat example/worker_more_difficult.py"
   ]
  },
  {
   "cell_type": "markdown",
   "id": "0a96883a-4047-4ba6-b5b9-31ac3f5a21b4",
   "metadata": {},
   "source": [
    "we catch the imports outside of function definitions as before"
   ]
  },
  {
   "cell_type": "code",
   "execution_count": 48,
   "id": "870432f0-2acb-4750-8ddb-df40cefa99da",
   "metadata": {},
   "outputs": [
    {
     "data": {
      "text/plain": [
       "[<_ast.ImportFrom at 0x7f8e0856e640>,\n",
       " <_ast.ImportFrom at 0x7f8e0856efd0>,\n",
       " <_ast.ImportFrom at 0x7f8e0856efa0>,\n",
       " <_ast.FunctionDef at 0x7f8e084f60a0>,\n",
       " <_ast.ImportFrom at 0x7f8e084f6520>,\n",
       " <_ast.ImportFrom at 0x7f8e084f6610>,\n",
       " <_ast.Import at 0x7f8e084f66a0>,\n",
       " <_ast.Import at 0x7f8e084f6760>,\n",
       " <_ast.ImportFrom at 0x7f8e084f6820>,\n",
       " <_ast.ImportFrom at 0x7f8e084f68b0>]"
      ]
     },
     "execution_count": 48,
     "metadata": {},
     "output_type": "execute_result"
    }
   ],
   "source": [
    "module_node = work_w[0]\n",
    "module_node.body"
   ]
  },
  {
   "cell_type": "code",
   "execution_count": 49,
   "id": "f7c361f1-3d65-409f-b6e0-06d424e8e512",
   "metadata": {},
   "outputs": [
    {
     "data": {
      "text/plain": [
       "'helper_1'"
      ]
     },
     "execution_count": 49,
     "metadata": {},
     "output_type": "execute_result"
    }
   ],
   "source": [
    "module_node.body[0].module"
   ]
  },
  {
   "cell_type": "code",
   "execution_count": 50,
   "id": "06b85993-5d9e-4c04-a843-38de2f5b2f37",
   "metadata": {},
   "outputs": [
    {
     "data": {
      "text/plain": [
       "'greeting'"
      ]
     },
     "execution_count": 50,
     "metadata": {},
     "output_type": "execute_result"
    }
   ],
   "source": [
    "module_node.body[0].names[0].name"
   ]
  },
  {
   "cell_type": "markdown",
   "id": "5178ad12-0052-48d8-9cab-c4457f1cffca",
   "metadata": {},
   "source": [
    "When we have more than one function being imported:"
   ]
  },
  {
   "cell_type": "code",
   "execution_count": 51,
   "id": "484d5531-cdfb-4d60-8538-ca66abba9d40",
   "metadata": {},
   "outputs": [
    {
     "data": {
      "text/plain": [
       "'helper_3'"
      ]
     },
     "execution_count": 51,
     "metadata": {},
     "output_type": "execute_result"
    }
   ],
   "source": [
    "module_node.body[1].module"
   ]
  },
  {
   "cell_type": "code",
   "execution_count": 52,
   "id": "052bfc76-e7b6-4171-a6a0-65f0f0dadf3f",
   "metadata": {},
   "outputs": [
    {
     "data": {
      "text/plain": [
       "['a', 'b', 'c', 'd']"
      ]
     },
     "execution_count": 52,
     "metadata": {},
     "output_type": "execute_result"
    }
   ],
   "source": [
    "[n.name for n in module_node.body[1].names]"
   ]
  },
  {
   "cell_type": "markdown",
   "id": "bb548299-21c8-418b-8287-534e236a9925",
   "metadata": {},
   "source": [
    "Importing everything from a module"
   ]
  },
  {
   "cell_type": "code",
   "execution_count": 53,
   "id": "d5a92e5b-8ede-46c5-921f-8fdaa0083020",
   "metadata": {},
   "outputs": [
    {
     "data": {
      "text/plain": [
       "'collections'"
      ]
     },
     "execution_count": 53,
     "metadata": {},
     "output_type": "execute_result"
    }
   ],
   "source": [
    "module_node.body[2].module"
   ]
  },
  {
   "cell_type": "markdown",
   "id": "a3fefb36-87dc-403b-9f42-f4247c9623a1",
   "metadata": {},
   "source": [
    "We can see this is going to be a problem for us to solve. We have no real way of logging the functions we're bringing in without parsing the entire module:"
   ]
  },
  {
   "cell_type": "code",
   "execution_count": 54,
   "id": "af22d0f8-90e2-4dc0-9a84-ecef7f4243b8",
   "metadata": {},
   "outputs": [
    {
     "data": {
      "text/plain": [
       "'*'"
      ]
     },
     "execution_count": 54,
     "metadata": {},
     "output_type": "execute_result"
    }
   ],
   "source": [
    "module_node.body[2].names[0].name"
   ]
  },
  {
   "cell_type": "markdown",
   "id": "b83d195f-336f-4042-a74f-458b57585600",
   "metadata": {},
   "source": [
    "We can use the `.level` attribute to determine that something was a relative import (`from ..test import say_hello`):"
   ]
  },
  {
   "cell_type": "code",
   "execution_count": 55,
   "id": "bcbd13ba-77ef-4cfd-867b-284af92fdac8",
   "metadata": {},
   "outputs": [
    {
     "data": {
      "text/plain": [
       "'test'"
      ]
     },
     "execution_count": 55,
     "metadata": {},
     "output_type": "execute_result"
    }
   ],
   "source": [
    "work_w[0].body[5].module"
   ]
  },
  {
   "cell_type": "markdown",
   "id": "f39fb4e4-d443-445a-b29b-242266572740",
   "metadata": {},
   "source": [
    "`level` is an integer holding the level of the relative import (0 means absolute import)"
   ]
  },
  {
   "cell_type": "code",
   "execution_count": 56,
   "id": "346ea6ae-a078-4127-885c-c3506e1db8c1",
   "metadata": {},
   "outputs": [
    {
     "data": {
      "text/plain": [
       "2"
      ]
     },
     "execution_count": 56,
     "metadata": {},
     "output_type": "execute_result"
    }
   ],
   "source": [
    "work_w[0].body[5].level"
   ]
  },
  {
   "cell_type": "markdown",
   "id": "bb2ee8f0-0859-4607-8ace-f49d581d9db4",
   "metadata": {},
   "source": [
    "### Subdirectory Imports and the `Import` Node"
   ]
  },
  {
   "cell_type": "markdown",
   "id": "722b4125-5ad5-4989-b20e-d15214d9530f",
   "metadata": {},
   "source": [
    "There is actually a distinct node type for module imports with the simpler `import x` syntax."
   ]
  },
  {
   "cell_type": "code",
   "execution_count": 57,
   "id": "0c9c2641-fe5e-4e57-8658-8a553036f9c4",
   "metadata": {},
   "outputs": [
    {
     "data": {
      "text/plain": [
       "<_ast.Import at 0x7f8e084f66a0>"
      ]
     },
     "execution_count": 57,
     "metadata": {},
     "output_type": "execute_result"
    }
   ],
   "source": [
    "work_w[0].body[6]"
   ]
  },
  {
   "cell_type": "markdown",
   "id": "a4c6bc1d-83d5-4ac8-a41c-4f35a04eac3c",
   "metadata": {},
   "source": [
    "The unfortunate parts is that this does not have the `level` attribute, so we will have to manually parse the module names to determine when things were subdirectory imports:"
   ]
  },
  {
   "cell_type": "code",
   "execution_count": 58,
   "id": "4181cb32-a118-4d8f-aefc-5f96d865ae0e",
   "metadata": {},
   "outputs": [
    {
     "data": {
      "text/plain": [
       "'sub.one'"
      ]
     },
     "execution_count": 58,
     "metadata": {},
     "output_type": "execute_result"
    }
   ],
   "source": [
    "work_w[0].body[6].names[0].name"
   ]
  },
  {
   "cell_type": "code",
   "execution_count": 59,
   "id": "53f3fbcb-16d2-41ff-bcbd-01c28e2de8c8",
   "metadata": {},
   "outputs": [
    {
     "data": {
      "text/plain": [
       "'sub.subsub.two'"
      ]
     },
     "execution_count": 59,
     "metadata": {},
     "output_type": "execute_result"
    }
   ],
   "source": [
    "work_w[0].body[7].names[0].name"
   ]
  },
  {
   "cell_type": "markdown",
   "id": "384e48db-1e95-416a-b340-7fba4149b127",
   "metadata": {},
   "source": [
    "### Inline Imports"
   ]
  },
  {
   "cell_type": "markdown",
   "id": "4934cc15-6831-4a90-bc23-790b5e3455d4",
   "metadata": {},
   "source": [
    "Our function definition include two inline import statments:\n",
    "\n",
    "```python\n",
    "def do_stuff():\r\n",
    "    import re\r\n",
    "    import talk as tk\r\n",
    "    print(f\"{greeting()}, {name()}\n",
    "```!\")"
   ]
  },
  {
   "cell_type": "code",
   "execution_count": 60,
   "id": "5eb99916-c884-4d46-9814-291b43e42f74",
   "metadata": {},
   "outputs": [
    {
     "data": {
      "text/plain": [
       "<_ast.FunctionDef at 0x7f8e084f60a0>"
      ]
     },
     "execution_count": 60,
     "metadata": {},
     "output_type": "execute_result"
    }
   ],
   "source": [
    "cool_function = work_w[0].body[3]\n",
    "cool_function"
   ]
  },
  {
   "cell_type": "code",
   "execution_count": 61,
   "id": "107c63d9-b369-4a9f-b7b3-e8fd475e96a9",
   "metadata": {},
   "outputs": [
    {
     "data": {
      "text/plain": [
       "'do_stuff'"
      ]
     },
     "execution_count": 61,
     "metadata": {},
     "output_type": "execute_result"
    }
   ],
   "source": [
    "cool_function.name"
   ]
  },
  {
   "cell_type": "markdown",
   "id": "bec2a449-ae4e-494f-9cea-8647de441ea3",
   "metadata": {},
   "source": [
    "As with the module node, we can see these imports in the body of the function definition node:"
   ]
  },
  {
   "cell_type": "code",
   "execution_count": 62,
   "id": "f3d38c6a-8d90-4936-b30d-1fa55ab1a1f6",
   "metadata": {},
   "outputs": [
    {
     "data": {
      "text/plain": [
       "[<_ast.Import at 0x7f8e084f6100>,\n",
       " <_ast.Import at 0x7f8e084f61c0>,\n",
       " <_ast.Expr at 0x7f8e084f6280>]"
      ]
     },
     "execution_count": 62,
     "metadata": {},
     "output_type": "execute_result"
    }
   ],
   "source": [
    "cool_function.body"
   ]
  },
  {
   "cell_type": "code",
   "execution_count": 63,
   "id": "157027c1-4993-4c31-92af-44552b3653d8",
   "metadata": {},
   "outputs": [
    {
     "data": {
      "text/plain": [
       "'re'"
      ]
     },
     "execution_count": 63,
     "metadata": {},
     "output_type": "execute_result"
    }
   ],
   "source": [
    "cool_function.body[0].names[0].name"
   ]
  },
  {
   "cell_type": "code",
   "execution_count": 64,
   "id": "29be68e7-0958-4264-abb3-f06fc701d1f3",
   "metadata": {},
   "outputs": [
    {
     "data": {
      "text/plain": [
       "'talk'"
      ]
     },
     "execution_count": 64,
     "metadata": {},
     "output_type": "execute_result"
    }
   ],
   "source": [
    "cool_function.body[1].names[0].name"
   ]
  },
  {
   "cell_type": "code",
   "execution_count": 65,
   "id": "dcfb60f7-8d44-42e7-91de-c6c8d82e90d2",
   "metadata": {},
   "outputs": [
    {
     "data": {
      "text/plain": [
       "'tk'"
      ]
     },
     "execution_count": 65,
     "metadata": {},
     "output_type": "execute_result"
    }
   ],
   "source": [
    "cool_function.body[1].names[0].asname"
   ]
  },
  {
   "cell_type": "markdown",
   "id": "5d849524-ebe7-469d-954f-270d393b63d3",
   "metadata": {},
   "source": [
    "## Calls"
   ]
  },
  {
   "cell_type": "markdown",
   "id": "200a8bc5-c337-4b3a-bda5-ad31d55a0bc1",
   "metadata": {},
   "source": [
    "Next we need to better understand how to unpack the information in a `Call` node."
   ]
  },
  {
   "cell_type": "markdown",
   "id": "7adcf7fa-b335-49ff-b635-4d8eeffd1adb",
   "metadata": {},
   "source": [
    "### Trace Uses"
   ]
  },
  {
   "cell_type": "code",
   "execution_count": 66,
   "id": "679efb43-fe8f-43ec-ae75-d7979e226d17",
   "metadata": {},
   "outputs": [
    {
     "name": "stdout",
     "output_type": "stream",
     "text": [
      "import numpy as np\n",
      "\n",
      "z = np.zeroes(5)\n",
      "\n",
      "def mul():\n",
      "    a = np.array([[1, 0],\n",
      "                  [0, 1]])\n",
      "    b = np.array([[4, 1],\n",
      "                  [2, 2]])\n",
      "    return np.matmul(a, b)\n",
      "\n",
      "def eigs_of_product():\n",
      "    a = np.array([[1, 0],\n",
      "                  [0, 1]])\n",
      "    b = np.array([[4, 1],\n",
      "                  [2, 2]])\n",
      "    product = np.matmul(a, b)\n",
      "    eigs = np.linalg.eigs(product)\n",
      "    np.linalg.debug.depth.error_print(eigs)  # this is a fake call, comment out if you want to run this\n",
      "    return eigs"
     ]
    }
   ],
   "source": [
    "!cat example/abyss.py"
   ]
  },
  {
   "cell_type": "code",
   "execution_count": 67,
   "id": "4ff75fd8-c255-4fe4-b1c1-ee410eb788a5",
   "metadata": {},
   "outputs": [],
   "source": [
    "work_w = walk_script(\"example/abyss.py\")"
   ]
  },
  {
   "cell_type": "code",
   "execution_count": 68,
   "id": "e400d4e6-e909-4582-bee1-f575a0bf2dc8",
   "metadata": {},
   "outputs": [],
   "source": [
    "from collections import Counter"
   ]
  },
  {
   "cell_type": "markdown",
   "id": "32a98487-fc1e-409d-82a1-32ce84cd457b",
   "metadata": {},
   "source": [
    "We build a counter of node types:"
   ]
  },
  {
   "cell_type": "code",
   "execution_count": 69,
   "id": "60d00b97-9c26-4300-8335-7b948f8cc83e",
   "metadata": {},
   "outputs": [],
   "source": [
    "type_counter = Counter()\n",
    "for node in work_w:\n",
    "    type_counter[type(node)] += 1"
   ]
  },
  {
   "cell_type": "markdown",
   "id": "e9189496-d643-4f30-a757-90d76b016809",
   "metadata": {},
   "source": [
    "From this (comparing how many times we used `np` in the script to these counts), we can tell that the information about the `numpy` calls are found in nodes with type `_ast.Call`"
   ]
  },
  {
   "cell_type": "code",
   "execution_count": 70,
   "id": "51fd9b10-dd9e-4270-8095-a3d247760503",
   "metadata": {},
   "outputs": [
    {
     "data": {
      "text/plain": [
       "Counter({_ast.Module: 1,\n",
       "         _ast.Import: 1,\n",
       "         _ast.Assign: 7,\n",
       "         _ast.FunctionDef: 2,\n",
       "         _ast.alias: 1,\n",
       "         _ast.Name: 23,\n",
       "         _ast.Call: 9,\n",
       "         _ast.arguments: 2,\n",
       "         _ast.Return: 2,\n",
       "         _ast.Expr: 1,\n",
       "         _ast.Store: 7,\n",
       "         _ast.Attribute: 13,\n",
       "         _ast.Constant: 17,\n",
       "         _ast.Load: 41,\n",
       "         _ast.List: 12})"
      ]
     },
     "execution_count": 70,
     "metadata": {},
     "output_type": "execute_result"
    }
   ],
   "source": [
    "type_counter"
   ]
  },
  {
   "cell_type": "markdown",
   "id": "2078414a-3209-4bbe-999e-2208209302d2",
   "metadata": {},
   "source": [
    "So, we grab just the calls like this:"
   ]
  },
  {
   "cell_type": "code",
   "execution_count": 71,
   "id": "39def103-c95c-4882-b12a-f78c768a5087",
   "metadata": {},
   "outputs": [],
   "source": [
    "calls = [n for n in work_w if isinstance(n, ast.Call)]"
   ]
  },
  {
   "cell_type": "code",
   "execution_count": 72,
   "id": "87cadb45-7d18-4ee9-8710-011c7ebdee27",
   "metadata": {},
   "outputs": [
    {
     "data": {
      "text/plain": [
       "[<_ast.Call at 0x7f8e0856eaf0>,\n",
       " <_ast.Call at 0x7f8e08564190>,\n",
       " <_ast.Call at 0x7f8e0856ca90>,\n",
       " <_ast.Call at 0x7f8e085be4c0>,\n",
       " <_ast.Call at 0x7f8e085bed00>,\n",
       " <_ast.Call at 0x7f8e085bea30>,\n",
       " <_ast.Call at 0x7f8e085beee0>,\n",
       " <_ast.Call at 0x7f8e085bea90>,\n",
       " <_ast.Call at 0x7f8e085be8b0>]"
      ]
     },
     "execution_count": 72,
     "metadata": {},
     "output_type": "execute_result"
    }
   ],
   "source": [
    "calls"
   ]
  },
  {
   "cell_type": "markdown",
   "id": "db44f448-c9b8-4aeb-bef7-a2544e20288f",
   "metadata": {},
   "source": [
    "This is the basic structure of the call data:"
   ]
  },
  {
   "cell_type": "code",
   "execution_count": 73,
   "id": "7cf986db-276c-4fef-b196-45f5bb6b45ae",
   "metadata": {},
   "outputs": [
    {
     "data": {
      "text/plain": [
       "'np'"
      ]
     },
     "execution_count": 73,
     "metadata": {},
     "output_type": "execute_result"
    }
   ],
   "source": [
    "calls[0].func.value.id"
   ]
  },
  {
   "cell_type": "code",
   "execution_count": 74,
   "id": "177bfd31-6a84-4b1c-ad5d-8292f9d16389",
   "metadata": {},
   "outputs": [
    {
     "data": {
      "text/plain": [
       "'zeroes'"
      ]
     },
     "execution_count": 74,
     "metadata": {},
     "output_type": "execute_result"
    }
   ],
   "source": [
    "calls[0].func.attr"
   ]
  },
  {
   "cell_type": "code",
   "execution_count": 75,
   "id": "bbba69b5-af0d-4e2d-97e8-3fd50d096264",
   "metadata": {},
   "outputs": [
    {
     "data": {
      "text/plain": [
       "3"
      ]
     },
     "execution_count": 75,
     "metadata": {},
     "output_type": "execute_result"
    }
   ],
   "source": [
    "calls[0].func.value.lineno"
   ]
  },
  {
   "cell_type": "markdown",
   "id": "0fccba51-3091-40ff-96c8-775fcb2debd6",
   "metadata": {},
   "source": [
    "Nested calls (using a submodule, like when we use `np.linalg.eigs`) require different handling"
   ]
  },
  {
   "cell_type": "code",
   "execution_count": 76,
   "id": "761e6c7e-c06a-4d15-bc33-88ee5781a836",
   "metadata": {},
   "outputs": [],
   "source": [
    "call = calls[-2]"
   ]
  },
  {
   "cell_type": "code",
   "execution_count": 77,
   "id": "201de4e7-2ccd-4b1a-aad1-12df3568c45f",
   "metadata": {},
   "outputs": [],
   "source": [
    "function = call.func"
   ]
  },
  {
   "cell_type": "code",
   "execution_count": 78,
   "id": "7e3f38bb-a91f-4a86-a6c3-a140f33853f2",
   "metadata": {},
   "outputs": [
    {
     "data": {
      "text/plain": [
       "<_ast.Attribute at 0x7f8e085be760>"
      ]
     },
     "execution_count": 78,
     "metadata": {},
     "output_type": "execute_result"
    }
   ],
   "source": [
    "function"
   ]
  },
  {
   "cell_type": "code",
   "execution_count": 79,
   "id": "6be55067-4711-489d-bedb-dbc78cb8f206",
   "metadata": {},
   "outputs": [
    {
     "data": {
      "text/plain": [
       "'linalg'"
      ]
     },
     "execution_count": 79,
     "metadata": {},
     "output_type": "execute_result"
    }
   ],
   "source": [
    "function.value.attr"
   ]
  },
  {
   "cell_type": "code",
   "execution_count": 80,
   "id": "1f143cb9-024c-4103-9f20-437aca67776a",
   "metadata": {},
   "outputs": [
    {
     "data": {
      "text/plain": [
       "'np'"
      ]
     },
     "execution_count": 80,
     "metadata": {},
     "output_type": "execute_result"
    }
   ],
   "source": [
    "function.value.value.id"
   ]
  },
  {
   "cell_type": "code",
   "execution_count": 81,
   "id": "54cd7cc2-8eaf-44fa-97aa-084338cf7866",
   "metadata": {},
   "outputs": [
    {
     "data": {
      "text/plain": [
       "'eigs'"
      ]
     },
     "execution_count": 81,
     "metadata": {},
     "output_type": "execute_result"
    }
   ],
   "source": [
    "function.attr"
   ]
  },
  {
   "cell_type": "markdown",
   "id": "d5f0b442-cebf-4d7d-9277-dcd2f6e132f8",
   "metadata": {},
   "source": [
    "As do deeply nested calls (`np.linalg.debug.depth.error_print(eigs)`)"
   ]
  },
  {
   "cell_type": "code",
   "execution_count": 82,
   "id": "613567b1-6790-479e-b660-f1a54e7bf63d",
   "metadata": {},
   "outputs": [],
   "source": [
    "call = calls[-1]"
   ]
  },
  {
   "cell_type": "code",
   "execution_count": 83,
   "id": "065220ed-9067-4c80-945d-e9f46550d050",
   "metadata": {},
   "outputs": [
    {
     "data": {
      "text/plain": [
       "<_ast.Attribute at 0x7f8e085be370>"
      ]
     },
     "execution_count": 83,
     "metadata": {},
     "output_type": "execute_result"
    }
   ],
   "source": [
    "function = call.func\n",
    "function"
   ]
  },
  {
   "cell_type": "code",
   "execution_count": 84,
   "id": "551199a1-f390-4625-a873-bb33849eb7df",
   "metadata": {},
   "outputs": [
    {
     "data": {
      "text/plain": [
       "'error_print'"
      ]
     },
     "execution_count": 84,
     "metadata": {},
     "output_type": "execute_result"
    }
   ],
   "source": [
    "function.attr"
   ]
  },
  {
   "cell_type": "code",
   "execution_count": 85,
   "id": "94a944a1-bee7-456e-b0f9-7498c172b501",
   "metadata": {},
   "outputs": [
    {
     "data": {
      "text/plain": [
       "'depth'"
      ]
     },
     "execution_count": 85,
     "metadata": {},
     "output_type": "execute_result"
    }
   ],
   "source": [
    "function.value.attr"
   ]
  },
  {
   "cell_type": "markdown",
   "id": "84b50de1-37a1-4854-ab87-a5324f491fe8",
   "metadata": {},
   "source": [
    "you just keep grabbing `.value` until the type changes from `ast.Attribute` to `ast.Name`"
   ]
  },
  {
   "cell_type": "code",
   "execution_count": 86,
   "id": "00e5b4ff-2fff-4164-85fe-a30eabdd10cf",
   "metadata": {},
   "outputs": [
    {
     "data": {
      "text/plain": [
       "<_ast.Attribute at 0x7f8e085be610>"
      ]
     },
     "execution_count": 86,
     "metadata": {},
     "output_type": "execute_result"
    }
   ],
   "source": [
    "function.value"
   ]
  },
  {
   "cell_type": "code",
   "execution_count": 87,
   "id": "939d3eee-377d-4018-a08f-d8cd79917d03",
   "metadata": {},
   "outputs": [
    {
     "data": {
      "text/plain": [
       "<_ast.Attribute at 0x7f8e085be070>"
      ]
     },
     "execution_count": 87,
     "metadata": {},
     "output_type": "execute_result"
    }
   ],
   "source": [
    "function.value.value"
   ]
  },
  {
   "cell_type": "code",
   "execution_count": 88,
   "id": "b27d71c2-7141-47fd-a185-e2291e2365a4",
   "metadata": {},
   "outputs": [
    {
     "data": {
      "text/plain": [
       "'debug'"
      ]
     },
     "execution_count": 88,
     "metadata": {},
     "output_type": "execute_result"
    }
   ],
   "source": [
    "function.value.value.attr"
   ]
  },
  {
   "cell_type": "code",
   "execution_count": 89,
   "id": "a61cc7ac-3401-4168-918c-310f0a701809",
   "metadata": {},
   "outputs": [
    {
     "data": {
      "text/plain": [
       "<_ast.Attribute at 0x7f8e085be970>"
      ]
     },
     "execution_count": 89,
     "metadata": {},
     "output_type": "execute_result"
    }
   ],
   "source": [
    "function.value.value.value"
   ]
  },
  {
   "cell_type": "code",
   "execution_count": 90,
   "id": "92013793-e683-4d83-b9c4-625fb6305668",
   "metadata": {},
   "outputs": [
    {
     "data": {
      "text/plain": [
       "'linalg'"
      ]
     },
     "execution_count": 90,
     "metadata": {},
     "output_type": "execute_result"
    }
   ],
   "source": [
    "function.value.value.value.attr"
   ]
  },
  {
   "cell_type": "code",
   "execution_count": 91,
   "id": "c2d058de-7e63-498c-bcef-3f99c5e5506d",
   "metadata": {},
   "outputs": [
    {
     "data": {
      "text/plain": [
       "<_ast.Name at 0x7f8e085be040>"
      ]
     },
     "execution_count": 91,
     "metadata": {},
     "output_type": "execute_result"
    }
   ],
   "source": [
    "function.value.value.value.value"
   ]
  },
  {
   "cell_type": "code",
   "execution_count": 92,
   "id": "1974dcf1-7cfe-4ecf-8cc7-f5c9fcb7c39a",
   "metadata": {},
   "outputs": [
    {
     "data": {
      "text/plain": [
       "'np'"
      ]
     },
     "execution_count": 92,
     "metadata": {},
     "output_type": "execute_result"
    }
   ],
   "source": [
    "function.value.value.value.value.id"
   ]
  },
  {
   "cell_type": "code",
   "execution_count": 93,
   "id": "edd40ee0-0cdf-442d-8e9d-6c67a71b8bc0",
   "metadata": {},
   "outputs": [
    {
     "data": {
      "text/plain": [
       "'error_print'"
      ]
     },
     "execution_count": 93,
     "metadata": {},
     "output_type": "execute_result"
    }
   ],
   "source": [
    "function.attr"
   ]
  },
  {
   "cell_type": "markdown",
   "id": "8a759214-153e-46ca-a688-7274a4c9ff05",
   "metadata": {},
   "source": [
    "In some of these examples we can begin to see an issue we'll need to resolve later. Really, rather than use the walked list of nodes in the AST, we want to recursively walk from the top node and also use recursive calls to extract data from the nodes. More on that in the next article."
   ]
  }
 ],
 "metadata": {
  "kernelspec": {
   "display_name": "Python 3 (ipykernel)",
   "language": "python",
   "name": "python3"
  },
  "language_info": {
   "codemirror_mode": {
    "name": "ipython",
    "version": 3
   },
   "file_extension": ".py",
   "mimetype": "text/x-python",
   "name": "python",
   "nbconvert_exporter": "python",
   "pygments_lexer": "ipython3",
   "version": "3.8.10"
  }
 },
 "nbformat": 4,
 "nbformat_minor": 5
}
